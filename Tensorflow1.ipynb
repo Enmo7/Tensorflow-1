{
  "nbformat": 4,
  "nbformat_minor": 0,
  "metadata": {
    "colab": {
      "provenance": [],
      "collapsed_sections": [
        "nXiVaKiRxuH_",
        "_QfNnaeWx1i5",
        "H5XSHGEWySs9",
        "ZoMrJcpyzN-A",
        "0FUDLqN-078_",
        "UQp7uJd91NZi"
      ]
    },
    "kernelspec": {
      "name": "python3",
      "display_name": "Python 3"
    },
    "language_info": {
      "name": "python"
    }
  },
  "cells": [
    {
      "cell_type": "markdown",
      "source": [
        "# Installing TensorFlow"
      ],
      "metadata": {
        "id": "nXiVaKiRxuH_"
      }
    },
    {
      "cell_type": "code",
      "execution_count": null,
      "metadata": {
        "id": "b1SufGBfxkg1"
      },
      "outputs": [],
      "source": [
        "!pip install grpcio==1.24.3\n",
        "!pip install tensorflow==2.2.0"
      ]
    },
    {
      "cell_type": "markdown",
      "source": [
        "#Importing TensorFlow"
      ],
      "metadata": {
        "id": "_QfNnaeWx1i5"
      }
    },
    {
      "cell_type": "code",
      "source": [
        "import tensorflow as tf"
      ],
      "metadata": {
        "id": "2T3AUyCcyLh1"
      },
      "execution_count": 1,
      "outputs": []
    },
    {
      "cell_type": "code",
      "source": [
        "if not tf.__version__ == '2.2.0':\n",
        "    print(tf.__version__)\n",
        "    raise ValueError('please upgrade to TensorFlow 2.2.0, or restart your Kernel (Kernel->Restart & Clear Output)')"
      ],
      "metadata": {
        "id": "HcY8UD4ixxub"
      },
      "execution_count": null,
      "outputs": []
    },
    {
      "cell_type": "markdown",
      "source": [
        "# tf.function and AutoGraph"
      ],
      "metadata": {
        "id": "H5XSHGEWySs9"
      }
    },
    {
      "cell_type": "code",
      "source": [
        "a = tf.constant([2], name = 'constant_a')"
      ],
      "metadata": {
        "id": "CKKJmXP_yB4Y"
      },
      "execution_count": 2,
      "outputs": []
    },
    {
      "cell_type": "code",
      "source": [
        "a"
      ],
      "metadata": {
        "colab": {
          "base_uri": "https://localhost:8080/"
        },
        "id": "l3_Dxk8dya7O",
        "outputId": "9ce38cdf-f560-4841-ed91-9300f62e255a"
      },
      "execution_count": 3,
      "outputs": [
        {
          "output_type": "execute_result",
          "data": {
            "text/plain": [
              "<tf.Tensor: shape=(1,), dtype=int32, numpy=array([2], dtype=int32)>"
            ]
          },
          "metadata": {},
          "execution_count": 3
        }
      ]
    },
    {
      "cell_type": "code",
      "source": [
        "b = tf.constant([3], name = 'constant_b')"
      ],
      "metadata": {
        "id": "HO0nTkQ0ybdi"
      },
      "execution_count": 4,
      "outputs": []
    },
    {
      "cell_type": "code",
      "source": [
        "b"
      ],
      "metadata": {
        "colab": {
          "base_uri": "https://localhost:8080/"
        },
        "id": "JFdI-AGHycGD",
        "outputId": "b7c56049-6220-4891-bb8c-28a54a1dbe99"
      },
      "execution_count": 5,
      "outputs": [
        {
          "output_type": "execute_result",
          "data": {
            "text/plain": [
              "<tf.Tensor: shape=(1,), dtype=int32, numpy=array([3], dtype=int32)>"
            ]
          },
          "metadata": {},
          "execution_count": 5
        }
      ]
    },
    {
      "cell_type": "code",
      "source": [
        "tf.print(a.numpy()[0])"
      ],
      "metadata": {
        "colab": {
          "base_uri": "https://localhost:8080/"
        },
        "id": "XipkC78PycvM",
        "outputId": "d0a7e7b3-507a-41d4-926b-bfff6faeb306"
      },
      "execution_count": 6,
      "outputs": [
        {
          "output_type": "stream",
          "name": "stdout",
          "text": [
            "2\n"
          ]
        }
      ]
    },
    {
      "cell_type": "code",
      "source": [
        "@tf.function\n",
        "def add(a,b):\n",
        "    c = tf.add(a, b)\n",
        "    #c = a + b is also a way to define the sum of the terms\n",
        "    print(c)\n",
        "    return c"
      ],
      "metadata": {
        "id": "DTFPKuLrygrO"
      },
      "execution_count": 7,
      "outputs": []
    },
    {
      "cell_type": "code",
      "source": [
        "result = add(a,b)"
      ],
      "metadata": {
        "colab": {
          "base_uri": "https://localhost:8080/"
        },
        "id": "1sqA05-GynqC",
        "outputId": "985794a4-28e0-4453-ef4a-7697cd25f77c"
      },
      "execution_count": 8,
      "outputs": [
        {
          "output_type": "stream",
          "name": "stdout",
          "text": [
            "Tensor(\"Add:0\", shape=(1,), dtype=int32)\n"
          ]
        }
      ]
    },
    {
      "cell_type": "code",
      "source": [
        "result"
      ],
      "metadata": {
        "colab": {
          "base_uri": "https://localhost:8080/"
        },
        "id": "E8fR_GWyytMV",
        "outputId": "4d2cbf92-a8dc-4c4e-8139-1ed1443cef2b"
      },
      "execution_count": 9,
      "outputs": [
        {
          "output_type": "execute_result",
          "data": {
            "text/plain": [
              "<tf.Tensor: shape=(1,), dtype=int32, numpy=array([5], dtype=int32)>"
            ]
          },
          "metadata": {},
          "execution_count": 9
        }
      ]
    },
    {
      "cell_type": "code",
      "source": [
        "tf.print(result[0])"
      ],
      "metadata": {
        "colab": {
          "base_uri": "https://localhost:8080/"
        },
        "id": "GCIlwugYyv-L",
        "outputId": "98d5efff-c2e5-46b6-f1d0-db55cf0c9707"
      },
      "execution_count": 10,
      "outputs": [
        {
          "output_type": "stream",
          "name": "stdout",
          "text": [
            "5\n"
          ]
        }
      ]
    },
    {
      "cell_type": "code",
      "source": [
        "A = add(8,9)"
      ],
      "metadata": {
        "colab": {
          "base_uri": "https://localhost:8080/"
        },
        "id": "SU5W6jVByxU7",
        "outputId": "dc0a4932-b954-4d86-d388-3152957b0514"
      },
      "execution_count": 11,
      "outputs": [
        {
          "output_type": "stream",
          "name": "stdout",
          "text": [
            "Tensor(\"Add:0\", shape=(), dtype=int32)\n"
          ]
        }
      ]
    },
    {
      "cell_type": "code",
      "source": [
        "A"
      ],
      "metadata": {
        "colab": {
          "base_uri": "https://localhost:8080/"
        },
        "id": "A3WDXCgFy7zj",
        "outputId": "30a1c2d8-72ae-443f-8a5e-a163ee54a698"
      },
      "execution_count": 12,
      "outputs": [
        {
          "output_type": "execute_result",
          "data": {
            "text/plain": [
              "<tf.Tensor: shape=(), dtype=int32, numpy=17>"
            ]
          },
          "metadata": {},
          "execution_count": 12
        }
      ]
    },
    {
      "cell_type": "markdown",
      "source": [
        "# Defining multidimensional arrays using TensorFlow"
      ],
      "metadata": {
        "id": "ZoMrJcpyzN-A"
      }
    },
    {
      "cell_type": "code",
      "source": [
        "Scalar = tf.constant(2)\n",
        "Scalar"
      ],
      "metadata": {
        "colab": {
          "base_uri": "https://localhost:8080/"
        },
        "id": "ItLQFTvZzCcu",
        "outputId": "d4ff5568-63f5-458a-c404-778575d22a06"
      },
      "execution_count": 14,
      "outputs": [
        {
          "output_type": "execute_result",
          "data": {
            "text/plain": [
              "<tf.Tensor: shape=(), dtype=int32, numpy=2>"
            ]
          },
          "metadata": {},
          "execution_count": 14
        }
      ]
    },
    {
      "cell_type": "code",
      "source": [
        "Vector = tf.constant([5,6,2])\n",
        "Vector"
      ],
      "metadata": {
        "colab": {
          "base_uri": "https://localhost:8080/"
        },
        "id": "2d4N4glLzTVR",
        "outputId": "549d3616-f779-46f6-b98e-7b86b9c101cb"
      },
      "execution_count": 15,
      "outputs": [
        {
          "output_type": "execute_result",
          "data": {
            "text/plain": [
              "<tf.Tensor: shape=(3,), dtype=int32, numpy=array([5, 6, 2], dtype=int32)>"
            ]
          },
          "metadata": {},
          "execution_count": 15
        }
      ]
    },
    {
      "cell_type": "code",
      "source": [
        "Matrix = tf.constant([[1,2,3],[2,3,4],[3,4,5]])\n",
        "Matrix"
      ],
      "metadata": {
        "colab": {
          "base_uri": "https://localhost:8080/"
        },
        "id": "QfnZKQ8ozWYx",
        "outputId": "a5c498d7-85ed-46d1-a829-12dda4a05ad7"
      },
      "execution_count": 16,
      "outputs": [
        {
          "output_type": "execute_result",
          "data": {
            "text/plain": [
              "<tf.Tensor: shape=(3, 3), dtype=int32, numpy=\n",
              "array([[1, 2, 3],\n",
              "       [2, 3, 4],\n",
              "       [3, 4, 5]], dtype=int32)>"
            ]
          },
          "metadata": {},
          "execution_count": 16
        }
      ]
    },
    {
      "cell_type": "code",
      "source": [
        "Tensor = tf.constant( [ [[1,2,3],[2,3,4],[3,4,5]] , [[4,5,6],[5,6,7],[6,7,8]] , [[7,8,9],[8,9,10],[9,10,11]] ] )\n",
        "Tensor"
      ],
      "metadata": {
        "colab": {
          "base_uri": "https://localhost:8080/"
        },
        "id": "yF3esObazZSd",
        "outputId": "4a73721e-79d8-418b-f83b-0889e0f3da3a"
      },
      "execution_count": 17,
      "outputs": [
        {
          "output_type": "execute_result",
          "data": {
            "text/plain": [
              "<tf.Tensor: shape=(3, 3, 3), dtype=int32, numpy=\n",
              "array([[[ 1,  2,  3],\n",
              "        [ 2,  3,  4],\n",
              "        [ 3,  4,  5]],\n",
              "\n",
              "       [[ 4,  5,  6],\n",
              "        [ 5,  6,  7],\n",
              "        [ 6,  7,  8]],\n",
              "\n",
              "       [[ 7,  8,  9],\n",
              "        [ 8,  9, 10],\n",
              "        [ 9, 10, 11]]], dtype=int32)>"
            ]
          },
          "metadata": {},
          "execution_count": 17
        }
      ]
    },
    {
      "cell_type": "code",
      "source": [
        "print (\"Scalar (1 entry):\\n %s \\n\" % Scalar)"
      ],
      "metadata": {
        "colab": {
          "base_uri": "https://localhost:8080/"
        },
        "id": "I5Ax3Wozzc36",
        "outputId": "a5dbfe17-0c14-4c27-aba9-918f511330ad"
      },
      "execution_count": 18,
      "outputs": [
        {
          "output_type": "stream",
          "name": "stdout",
          "text": [
            "Scalar (1 entry):\n",
            " tf.Tensor(2, shape=(), dtype=int32) \n",
            "\n"
          ]
        }
      ]
    },
    {
      "cell_type": "code",
      "source": [
        "print (\"Vector (3 entries) :\\n %s \\n\" % Vector)"
      ],
      "metadata": {
        "colab": {
          "base_uri": "https://localhost:8080/"
        },
        "id": "XpoeEa46zhWb",
        "outputId": "5861589b-e168-4e1a-fb7b-0ec5cb852e35"
      },
      "execution_count": 19,
      "outputs": [
        {
          "output_type": "stream",
          "name": "stdout",
          "text": [
            "Vector (3 entries) :\n",
            " tf.Tensor([5 6 2], shape=(3,), dtype=int32) \n",
            "\n"
          ]
        }
      ]
    },
    {
      "cell_type": "code",
      "source": [
        "print (\"Matrix (3x3 entries):\\n %s \\n\" % Matrix)"
      ],
      "metadata": {
        "colab": {
          "base_uri": "https://localhost:8080/"
        },
        "id": "hEmV2hmTzjj3",
        "outputId": "1fce30bd-fdef-4a96-e42e-f3abc8d3e7bd"
      },
      "execution_count": 20,
      "outputs": [
        {
          "output_type": "stream",
          "name": "stdout",
          "text": [
            "Matrix (3x3 entries):\n",
            " tf.Tensor(\n",
            "[[1 2 3]\n",
            " [2 3 4]\n",
            " [3 4 5]], shape=(3, 3), dtype=int32) \n",
            "\n"
          ]
        }
      ]
    },
    {
      "cell_type": "code",
      "source": [
        "print (\"Tensor (3x3x3 entries) :\\n %s \\n\" % Tensor)"
      ],
      "metadata": {
        "colab": {
          "base_uri": "https://localhost:8080/"
        },
        "id": "uXK-1vumzlVM",
        "outputId": "7fddc1e7-baf7-443d-ae13-ec768314f26e"
      },
      "execution_count": 21,
      "outputs": [
        {
          "output_type": "stream",
          "name": "stdout",
          "text": [
            "Tensor (3x3x3 entries) :\n",
            " tf.Tensor(\n",
            "[[[ 1  2  3]\n",
            "  [ 2  3  4]\n",
            "  [ 3  4  5]]\n",
            "\n",
            " [[ 4  5  6]\n",
            "  [ 5  6  7]\n",
            "  [ 6  7  8]]\n",
            "\n",
            " [[ 7  8  9]\n",
            "  [ 8  9 10]\n",
            "  [ 9 10 11]]], shape=(3, 3, 3), dtype=int32) \n",
            "\n"
          ]
        }
      ]
    },
    {
      "cell_type": "code",
      "source": [
        "Scalar.shape"
      ],
      "metadata": {
        "colab": {
          "base_uri": "https://localhost:8080/"
        },
        "id": "PAxeaHyrznVC",
        "outputId": "fd236733-b02f-4597-fb19-8fa8fb8e1267"
      },
      "execution_count": 22,
      "outputs": [
        {
          "output_type": "execute_result",
          "data": {
            "text/plain": [
              "TensorShape([])"
            ]
          },
          "metadata": {},
          "execution_count": 22
        }
      ]
    },
    {
      "cell_type": "code",
      "source": [
        "Vector.shape"
      ],
      "metadata": {
        "colab": {
          "base_uri": "https://localhost:8080/"
        },
        "id": "YpGhip8az_8e",
        "outputId": "f6d0ad8f-a455-4916-c927-84f5715e29d3"
      },
      "execution_count": 23,
      "outputs": [
        {
          "output_type": "execute_result",
          "data": {
            "text/plain": [
              "TensorShape([3])"
            ]
          },
          "metadata": {},
          "execution_count": 23
        }
      ]
    },
    {
      "cell_type": "code",
      "source": [
        "Matrix.shape"
      ],
      "metadata": {
        "colab": {
          "base_uri": "https://localhost:8080/"
        },
        "id": "5ccpmkLI0Dt1",
        "outputId": "d10999cf-254d-413b-f448-07cf1f4afd52"
      },
      "execution_count": 24,
      "outputs": [
        {
          "output_type": "execute_result",
          "data": {
            "text/plain": [
              "TensorShape([3, 3])"
            ]
          },
          "metadata": {},
          "execution_count": 24
        }
      ]
    },
    {
      "cell_type": "code",
      "source": [
        "Tensor.shape"
      ],
      "metadata": {
        "colab": {
          "base_uri": "https://localhost:8080/"
        },
        "id": "Pwf5YUSl0Ecy",
        "outputId": "46d157d1-a297-43dc-80fa-edec168e070e"
      },
      "execution_count": 25,
      "outputs": [
        {
          "output_type": "execute_result",
          "data": {
            "text/plain": [
              "TensorShape([3, 3, 3])"
            ]
          },
          "metadata": {},
          "execution_count": 25
        }
      ]
    },
    {
      "cell_type": "code",
      "source": [
        "Matrix_one = tf.constant([[1,2,3],[2,3,4],[3,4,5]])\n",
        "Matrix_one"
      ],
      "metadata": {
        "colab": {
          "base_uri": "https://localhost:8080/"
        },
        "id": "EjoJCp-i0LSy",
        "outputId": "26ad320e-57df-45ce-9848-516f7ac79c3c"
      },
      "execution_count": 26,
      "outputs": [
        {
          "output_type": "execute_result",
          "data": {
            "text/plain": [
              "<tf.Tensor: shape=(3, 3), dtype=int32, numpy=\n",
              "array([[1, 2, 3],\n",
              "       [2, 3, 4],\n",
              "       [3, 4, 5]], dtype=int32)>"
            ]
          },
          "metadata": {},
          "execution_count": 26
        }
      ]
    },
    {
      "cell_type": "code",
      "source": [
        "Matrix_two = tf.constant([[2,2,2],[2,2,2],[2,2,2]])\n",
        "Matrix_two"
      ],
      "metadata": {
        "colab": {
          "base_uri": "https://localhost:8080/"
        },
        "id": "6sZ-NJCM0QKh",
        "outputId": "c8ded948-9daa-4ea1-b66e-c152f1d8ebbb"
      },
      "execution_count": 27,
      "outputs": [
        {
          "output_type": "execute_result",
          "data": {
            "text/plain": [
              "<tf.Tensor: shape=(3, 3), dtype=int32, numpy=\n",
              "array([[2, 2, 2],\n",
              "       [2, 2, 2],\n",
              "       [2, 2, 2]], dtype=int32)>"
            ]
          },
          "metadata": {},
          "execution_count": 27
        }
      ]
    },
    {
      "cell_type": "code",
      "source": [
        "@tf.function\n",
        "def add():\n",
        "    add_1_operation = tf.add(Matrix_one, Matrix_two)\n",
        "    return add_1_operation"
      ],
      "metadata": {
        "id": "hXF_dDuc0TCg"
      },
      "execution_count": 28,
      "outputs": []
    },
    {
      "cell_type": "code",
      "source": [
        "print(\"Defined using tensorflow function :\")\n",
        "add_1_operation = add()\n",
        "print(add_1_operation)"
      ],
      "metadata": {
        "colab": {
          "base_uri": "https://localhost:8080/"
        },
        "id": "NENca4O-0Y2G",
        "outputId": "603c8a95-789f-4c3f-fef8-2e2057078435"
      },
      "execution_count": 31,
      "outputs": [
        {
          "output_type": "stream",
          "name": "stdout",
          "text": [
            "Defined using tensorflow function :\n",
            "tf.Tensor(\n",
            "[[3 4 5]\n",
            " [4 5 6]\n",
            " [5 6 7]], shape=(3, 3), dtype=int32)\n"
          ]
        }
      ]
    },
    {
      "cell_type": "code",
      "source": [
        "print(\"Defined using normal expressions :\")\n",
        "add_2_operation = Matrix_one + Matrix_two\n",
        "print(add_2_operation)"
      ],
      "metadata": {
        "colab": {
          "base_uri": "https://localhost:8080/"
        },
        "id": "LQQN-w100cv7",
        "outputId": "b33c676a-d744-4e5e-9f28-fb12bf22683a"
      },
      "execution_count": 32,
      "outputs": [
        {
          "output_type": "stream",
          "name": "stdout",
          "text": [
            "Defined using normal expressions :\n",
            "tf.Tensor(\n",
            "[[3 4 5]\n",
            " [4 5 6]\n",
            " [5 6 7]], shape=(3, 3), dtype=int32)\n"
          ]
        }
      ]
    },
    {
      "cell_type": "code",
      "source": [
        "Matrix_one = tf.constant([[2,3],[3,4]])\n",
        "Matrix_one"
      ],
      "metadata": {
        "colab": {
          "base_uri": "https://localhost:8080/"
        },
        "id": "nTAtpYqy0qXn",
        "outputId": "e412b461-e0a7-4175-aea5-bc270a1d6e66"
      },
      "execution_count": 33,
      "outputs": [
        {
          "output_type": "execute_result",
          "data": {
            "text/plain": [
              "<tf.Tensor: shape=(2, 2), dtype=int32, numpy=\n",
              "array([[2, 3],\n",
              "       [3, 4]], dtype=int32)>"
            ]
          },
          "metadata": {},
          "execution_count": 33
        }
      ]
    },
    {
      "cell_type": "code",
      "source": [
        "Matrix_two = tf.constant([[2,3],[3,4]])\n",
        "Matrix_two"
      ],
      "metadata": {
        "colab": {
          "base_uri": "https://localhost:8080/"
        },
        "id": "XlcfbLbX0uws",
        "outputId": "3ddc6f73-64a6-45ae-e9dd-74a4fc6db8e9"
      },
      "execution_count": 34,
      "outputs": [
        {
          "output_type": "execute_result",
          "data": {
            "text/plain": [
              "<tf.Tensor: shape=(2, 2), dtype=int32, numpy=\n",
              "array([[2, 3],\n",
              "       [3, 4]], dtype=int32)>"
            ]
          },
          "metadata": {},
          "execution_count": 34
        }
      ]
    },
    {
      "cell_type": "code",
      "source": [
        "@tf.function\n",
        "def mathmul():\n",
        "  return tf.matmul(Matrix_one, Matrix_two)"
      ],
      "metadata": {
        "id": "WCdIiqMU0xjD"
      },
      "execution_count": 35,
      "outputs": []
    },
    {
      "cell_type": "code",
      "source": [
        "mul_operation = mathmul()\n",
        "\n",
        "print (\"Defined using tensorflow function :\")\n",
        "print(mul_operation)"
      ],
      "metadata": {
        "colab": {
          "base_uri": "https://localhost:8080/"
        },
        "id": "lS5zeGx500CN",
        "outputId": "ff795db5-a288-411d-9f3b-4de285b8dcf0"
      },
      "execution_count": 36,
      "outputs": [
        {
          "output_type": "stream",
          "name": "stdout",
          "text": [
            "Defined using tensorflow function :\n",
            "tf.Tensor(\n",
            "[[13 18]\n",
            " [18 25]], shape=(2, 2), dtype=int32)\n"
          ]
        }
      ]
    },
    {
      "cell_type": "markdown",
      "source": [
        "# Variables"
      ],
      "metadata": {
        "id": "0FUDLqN-078_"
      }
    },
    {
      "cell_type": "code",
      "source": [
        "v = tf.Variable(0)\n",
        "v"
      ],
      "metadata": {
        "colab": {
          "base_uri": "https://localhost:8080/"
        },
        "id": "mWyYlgAk03OF",
        "outputId": "0767ef99-cc5a-4915-8453-51027d03e20b"
      },
      "execution_count": 37,
      "outputs": [
        {
          "output_type": "execute_result",
          "data": {
            "text/plain": [
              "<tf.Variable 'Variable:0' shape=() dtype=int32, numpy=0>"
            ]
          },
          "metadata": {},
          "execution_count": 37
        }
      ]
    },
    {
      "cell_type": "code",
      "source": [
        "@tf.function\n",
        "def increment_by_one(v):\n",
        "        v = tf.add(v,1)\n",
        "        return v"
      ],
      "metadata": {
        "id": "Pe3bqQJ51BIs"
      },
      "execution_count": 38,
      "outputs": []
    },
    {
      "cell_type": "code",
      "source": [
        "for i in range(3):\n",
        "    v = increment_by_one(v)\n",
        "    print(v)"
      ],
      "metadata": {
        "colab": {
          "base_uri": "https://localhost:8080/"
        },
        "id": "IzHHWJz21EDn",
        "outputId": "68adfad4-0a33-4f33-cb00-1519b2917bca"
      },
      "execution_count": 39,
      "outputs": [
        {
          "output_type": "stream",
          "name": "stdout",
          "text": [
            "tf.Tensor(1, shape=(), dtype=int32)\n",
            "tf.Tensor(2, shape=(), dtype=int32)\n",
            "tf.Tensor(3, shape=(), dtype=int32)\n"
          ]
        }
      ]
    },
    {
      "cell_type": "markdown",
      "source": [
        "# Operations"
      ],
      "metadata": {
        "id": "UQp7uJd91NZi"
      }
    },
    {
      "cell_type": "code",
      "source": [
        "a = tf.constant([5])\n",
        "a"
      ],
      "metadata": {
        "colab": {
          "base_uri": "https://localhost:8080/"
        },
        "id": "bPo9cZ451Geb",
        "outputId": "bbc7d2da-794e-4c65-a685-9523b4fe3874"
      },
      "execution_count": 40,
      "outputs": [
        {
          "output_type": "execute_result",
          "data": {
            "text/plain": [
              "<tf.Tensor: shape=(1,), dtype=int32, numpy=array([5], dtype=int32)>"
            ]
          },
          "metadata": {},
          "execution_count": 40
        }
      ]
    },
    {
      "cell_type": "code",
      "source": [
        "b = tf.constant([2])\n",
        "b"
      ],
      "metadata": {
        "colab": {
          "base_uri": "https://localhost:8080/"
        },
        "id": "RUKZerCd1TUZ",
        "outputId": "956d97ee-f461-4b89-ea4d-e7d0662040c0"
      },
      "execution_count": 41,
      "outputs": [
        {
          "output_type": "execute_result",
          "data": {
            "text/plain": [
              "<tf.Tensor: shape=(1,), dtype=int32, numpy=array([2], dtype=int32)>"
            ]
          },
          "metadata": {},
          "execution_count": 41
        }
      ]
    },
    {
      "cell_type": "code",
      "source": [
        "c = tf.add(a,b)\n",
        "c"
      ],
      "metadata": {
        "colab": {
          "base_uri": "https://localhost:8080/"
        },
        "id": "z-_ahftb1VpO",
        "outputId": "8b56b24c-664d-4816-f59f-3ce093b8426f"
      },
      "execution_count": 42,
      "outputs": [
        {
          "output_type": "execute_result",
          "data": {
            "text/plain": [
              "<tf.Tensor: shape=(1,), dtype=int32, numpy=array([7], dtype=int32)>"
            ]
          },
          "metadata": {},
          "execution_count": 42
        }
      ]
    },
    {
      "cell_type": "code",
      "source": [
        "d = tf.subtract(a,b)\n",
        "d"
      ],
      "metadata": {
        "colab": {
          "base_uri": "https://localhost:8080/"
        },
        "id": "HNQiCNF_1Xo7",
        "outputId": "24ff2eb2-533d-4149-da7b-3646e535470c"
      },
      "execution_count": 43,
      "outputs": [
        {
          "output_type": "execute_result",
          "data": {
            "text/plain": [
              "<tf.Tensor: shape=(1,), dtype=int32, numpy=array([3], dtype=int32)>"
            ]
          },
          "metadata": {},
          "execution_count": 43
        }
      ]
    },
    {
      "cell_type": "code",
      "source": [
        "print ('c =: %s' % c)"
      ],
      "metadata": {
        "colab": {
          "base_uri": "https://localhost:8080/"
        },
        "id": "PqlN8USL1Z_m",
        "outputId": "66fce5f0-59ce-4753-a256-f07ffaaa01d7"
      },
      "execution_count": 44,
      "outputs": [
        {
          "output_type": "stream",
          "name": "stdout",
          "text": [
            "c =: tf.Tensor([7], shape=(1,), dtype=int32)\n"
          ]
        }
      ]
    },
    {
      "cell_type": "code",
      "source": [
        "print ('d =: %s' % d)"
      ],
      "metadata": {
        "colab": {
          "base_uri": "https://localhost:8080/"
        },
        "id": "gJJBwzsZ1cmw",
        "outputId": "f47bb806-8893-46d9-97fc-556d6f3bf3ad"
      },
      "execution_count": 45,
      "outputs": [
        {
          "output_type": "stream",
          "name": "stdout",
          "text": [
            "d =: tf.Tensor([3], shape=(1,), dtype=int32)\n"
          ]
        }
      ]
    }
  ]
}